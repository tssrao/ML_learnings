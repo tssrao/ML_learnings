{
  "nbformat": 4,
  "nbformat_minor": 0,
  "metadata": {
    "colab": {
      "provenance": [],
      "authorship_tag": "ABX9TyPVsOfQOXkctjCCQGuAq93M",
      "include_colab_link": true
    },
    "kernelspec": {
      "name": "python3",
      "display_name": "Python 3"
    },
    "language_info": {
      "name": "python"
    }
  },
  "cells": [
    {
      "cell_type": "markdown",
      "metadata": {
        "id": "view-in-github",
        "colab_type": "text"
      },
      "source": [
        "<a href=\"https://colab.research.google.com/github/tssrao/ML_learnings/blob/main/Closed_Form_Linear_Reg_from_scratch.ipynb\" target=\"_parent\"><img src=\"https://colab.research.google.com/assets/colab-badge.svg\" alt=\"Open In Colab\"/></a>"
      ]
    },
    {
      "cell_type": "markdown",
      "source": [
        "# **Implementing Closed Form Linear Regression from scratch**"
      ],
      "metadata": {
        "id": "B1e9Wj_d6Rse"
      }
    },
    {
      "cell_type": "code",
      "execution_count": 5,
      "metadata": {
        "id": "1u_MdLze55NA"
      },
      "outputs": [],
      "source": [
        "import pandas as pd\n",
        "import numpy as np\n",
        "import matplotlib.pyplot as plt\n",
        "%matplotlib inline\n",
        "from sklearn.datasets import make_regression"
      ]
    },
    {
      "cell_type": "code",
      "source": [
        "#create dataset\n",
        "X,Y = make_regression(n_samples = 400, n_features = 1, n_informative=1,noise = 1.8, random_state = 11)\n",
        "Y = Y.reshape((-1,1))\n",
        "print(X.shape)\n",
        "print(Y.shape)"
      ],
      "metadata": {
        "colab": {
          "base_uri": "https://localhost:8080/"
        },
        "id": "8xflwXmb6Mhl",
        "outputId": "1d18a6fc-5c15-445c-ce7f-67929a4dea47"
      },
      "execution_count": 4,
      "outputs": [
        {
          "output_type": "stream",
          "name": "stdout",
          "text": [
            "(400, 1)\n",
            "(400, 1)\n"
          ]
        }
      ]
    },
    {
      "cell_type": "code",
      "source": [
        "#normalise\n",
        "\n",
        "X = (X-X.mean())/X.std()\n",
        "\n",
        "#plot\n",
        "plt.scatter(X,Y)\n",
        "plt.title(\"Normalized Data\")"
      ],
      "metadata": {
        "colab": {
          "base_uri": "https://localhost:8080/",
          "height": 298
        },
        "id": "gYbb_Dpi7OCv",
        "outputId": "7c3712b1-4476-4300-893f-4b03b27fa2e4"
      },
      "execution_count": 7,
      "outputs": [
        {
          "output_type": "execute_result",
          "data": {
            "text/plain": [
              "Text(0.5, 1.0, 'Normalized Data')"
            ]
          },
          "metadata": {},
          "execution_count": 7
        },
        {
          "output_type": "display_data",
          "data": {
            "text/plain": [
              "<Figure size 432x288 with 1 Axes>"
            ],
            "image/png": "[encoded data removed]"
          },
          "metadata": {
            "needs_background": "light"
          }
        }
      ]
    },
    {
      "cell_type": "code",
      "source": [
        "from sklearn.preprocessing import add_dummy_feature"
      ],
      "metadata": {
        "id": "w_8yM8As7uHX"
      },
      "execution_count": 8,
      "outputs": []
    },
    {
      "cell_type": "code",
      "source": [
        "X_new = add_dummy_feature(X)\n",
        "X_new[:5,:]"
      ],
      "metadata": {
        "colab": {
          "base_uri": "https://localhost:8080/"
        },
        "id": "vfv0nfSJ8HGx",
        "outputId": "d830ff80-4d54-4679-a91d-a7df74347a65"
      },
      "execution_count": 12,
      "outputs": [
        {
          "output_type": "execute_result",
          "data": {
            "text/plain": [
              "array([[ 1.        , -0.86881353],\n",
              "       [ 1.        ,  1.04796658],\n",
              "       [ 1.        , -0.2019676 ],\n",
              "       [ 1.        , -0.34017061],\n",
              "       [ 1.        ,  0.13317349]])"
            ]
          },
          "metadata": {},
          "execution_count": 12
        }
      ]
    },
    {
      "cell_type": "code",
      "source": [
        "def predict(X,theta):\n",
        "    return np.dot(X,theta)\n",
        "\n",
        "def getThetaClosedForm(X,Y):\n",
        "\n",
        "    Y = np.mat(Y)\n",
        "    firstPart = np.dot(X.T,X)\n",
        "    secondPart = np.dot(X.T,Y)\n",
        "\n",
        "    theta = np.linalg.pinv(firstPart)*secondPart\n",
        "    return theta"
      ],
      "metadata": {
        "id": "5K6T46ec8LB3"
      },
      "execution_count": 22,
      "outputs": []
    },
    {
      "cell_type": "code",
      "source": [
        "theta = getThetaClosedForm(X_new,Y)\n",
        "print('bias: ',theta[0])\n",
        "print('coeff: ',theta[1])"
      ],
      "metadata": {
        "colab": {
          "base_uri": "https://localhost:8080/"
        },
        "id": "f5i2vGDi8K_k",
        "outputId": "1bb613f0-c28d-4bb5-bd3b-2adab2208171"
      },
      "execution_count": 23,
      "outputs": [
        {
          "output_type": "stream",
          "name": "stdout",
          "text": [
            "bias:  [[-0.29187892]]\n",
            "coeff:  [[19.45877082]]\n"
          ]
        }
      ]
    },
    {
      "cell_type": "code",
      "source": [
        "plt.scatter(X,Y)\n",
        "# plt.title(\"Normalized Data\")\n",
        "plt.plot(X,predict(X_new,theta),color = 'red')"
      ],
      "metadata": {
        "colab": {
          "base_uri": "https://localhost:8080/",
          "height": 282
        },
        "id": "iR81bV4U8K8Z",
        "outputId": "25a20122-2469-4f6e-aad4-da287e11beed"
      },
      "execution_count": 24,
      "outputs": [
        {
          "output_type": "execute_result",
          "data": {
            "text/plain": [
              "[<matplotlib.lines.Line2D at 0x7f11bb2f9760>]"
            ]
          },
          "metadata": {},
          "execution_count": 24
        },
        {
          "output_type": "display_data",
          "data": {
            "text/plain": [
              "<Figure size 432x288 with 1 Axes>"
            ],
            "image/png": "[encoded data removed]"
          },
          "metadata": {
            "needs_background": "light"
          }
        }
      ]
    },
    {
      "cell_type": "code",
      "source": [],
      "metadata": {
        "id": "BI3HyRZlGAVz"
      },
      "execution_count": null,
      "outputs": []
    }
  ]
}